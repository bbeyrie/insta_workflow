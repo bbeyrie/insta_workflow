{
  "cells": [
    {
      "cell_type": "code",
      "execution_count": null,
      "metadata": {
        "id": "L6u1mHpAZYhH"
      },
      "outputs": [],
      "source": [
        "from instagrapi import Client\n",
        "import pandas as pd\n",
        "import os\n",
        "\n",
        "filename = \"test_klorane.csv\"\n",
        "\n",
        "cl = Client()\n",
        "cl.set_locale('fr_FR')\n",
        "cl.set_country_code(33)  # +7\n",
        "cl.set_timezone_offset(1 * 3600)  # Paris UTC+1\n",
        "hashtag = cl.hashtag_info_v1('klorane').dict()\n",
        "df = pd.DataFrame(hashtag)"
      ]
    },
    {
      "cell_type": "code",
      "execution_count": null,
      "metadata": {
        "id": "XI6aX2bFZ7Ww"
      },
      "outputs": [],
      "source": [
        "if os.path.exists(filename):\n",
        "  df.to_csv(filename, index=False, sep=\";\", mode='a')\n",
        "else:\n",
        "  df.to_csv(filename, index=False, sep=\";\")"
      ]
    }
  ],
  "metadata": {
    "colab": {
      "provenance": []
    },
    "kernelspec": {
      "display_name": "base",
      "language": "python",
      "name": "python3"
    },
    "language_info": {
      "name": "python",
      "version": "3.9.13"
    },
    "vscode": {
      "interpreter": {
        "hash": "0a19ab8df7cc669d44cc32aaef8f31f5ebe37962ebf4876df7e2845d08591d90"
      }
    }
  },
  "nbformat": 4,
  "nbformat_minor": 0
}
