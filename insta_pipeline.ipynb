{
  "nbformat": 4,
  "nbformat_minor": 0,
  "metadata": {
    "colab": {
      "provenance": []
    },
    "kernelspec": {
      "name": "python3",
      "display_name": "Python 3"
    },
    "language_info": {
      "name": "python"
    }
  },
  "cells": [
    {
      "cell_type": "code",
      "execution_count": null,
      "metadata": {
        "id": "trMIO2wVZVR_"
      },
      "outputs": [],
      "source": [
        "!pip install instagrapi"
      ]
    },
    {
      "cell_type": "code",
      "source": [
        "from instagrapi import Client\n",
        "import pandas as pd\n",
        "\n",
        "filename = \"test_klorane.csv\"\n",
        "\n",
        "cl = Client()\n",
        "cl.set_locale('fr_FR')\n",
        "cl.set_country_code(33)  # +7\n",
        "cl.set_timezone_offset(1 * 3600)  # Paris UTC+1\n",
        "hashtag = cl.hashtag_info_v1('klorane').dict()\n",
        "df = pd.DataFrame(hashtag)"
      ],
      "metadata": {
        "id": "L6u1mHpAZYhH"
      },
      "execution_count": null,
      "outputs": []
    },
    {
      "cell_type": "code",
      "source": [
        "if os.path.exists(filename):\n",
        "  df.to_csv(filename, index=False, sep=\";\", mode='a')\n",
        "else\n",
        "  df.to_csv(filename, index=False, sep=\";\")"
      ],
      "metadata": {
        "id": "XI6aX2bFZ7Ww"
      },
      "execution_count": null,
      "outputs": []
    }
  ]
}